{
 "cells": [
  {
   "cell_type": "markdown",
   "metadata": {
    "id": "tcwz5T-nEUO-"
   },
   "source": [
    "# Multi Agent Traj Opt: Testing\n",
    "Open this script in Colab and connect to a T4 runtime"
   ]
  },
  {
   "cell_type": "code",
   "execution_count": 1,
   "metadata": {
    "colab": {
     "base_uri": "https://localhost:8080/"
    },
    "id": "iTWrltaY11ib",
    "outputId": "88f9de16-4c28-41e5-e840-d6f73525340e"
   },
   "outputs": [
    {
     "name": "stdout",
     "output_type": "stream",
     "text": [
      "Cloning into 'robotics_project'...\n",
      "remote: Enumerating objects: 3432, done.\u001b[K\n",
      "remote: Counting objects: 100% (216/216), done.\u001b[K\n",
      "remote: Compressing objects: 100% (78/78), done.\u001b[K\n",
      "remote: Total 3432 (delta 166), reused 153 (delta 138), pack-reused 3216 (from 1)\u001b[K\n",
      "Receiving objects: 100% (3432/3432), 8.99 MiB | 16.92 MiB/s, done.\n",
      "Resolving deltas: 100% (3160/3160), done.\n"
     ]
    }
   ],
   "source": [
    "!git clone -b taimur/integrate-decentralized-parallel-cost --single-branch https://github.com/paeb37/robotics_project.git"
   ]
  },
  {
   "cell_type": "code",
   "execution_count": 2,
   "metadata": {
    "colab": {
     "base_uri": "https://localhost:8080/"
    },
    "id": "Rt_0zRSb3VpF",
    "outputId": "b6929b73-735d-465e-b86f-da0c1983a58d"
   },
   "outputs": [
    {
     "name": "stdout",
     "output_type": "stream",
     "text": [
      "/content/robotics_project/decentralized\n"
     ]
    }
   ],
   "source": [
    "%cd /content/robotics_project/decentralized"
   ]
  },
  {
   "cell_type": "code",
   "execution_count": 4,
   "metadata": {
    "colab": {
     "base_uri": "https://localhost:8080/"
    },
    "id": "CqGTTxct3oVt",
    "outputId": "77134bb4-c776-4b9e-cce5-b5a07021bb91"
   },
   "outputs": [
    {
     "name": "stdout",
     "output_type": "stream",
     "text": [
      "Already up to date.\n"
     ]
    }
   ],
   "source": [
    "!git pull"
   ]
  },
  {
   "cell_type": "markdown",
   "metadata": {},
   "source": [
    "# Run the cell below. Could take anywhere from 1-3 minutes depending on the instantiated grid size and number of agents."
   ]
  },
  {
   "cell_type": "code",
   "execution_count": 6,
   "metadata": {
    "colab": {
     "base_uri": "https://localhost:8080/"
    },
    "id": "ivv79JOC3sIB",
    "outputId": "f97873fb-6acc-48d1-8b75-6780435152cf"
   },
   "outputs": [
    {
     "name": "stdout",
     "output_type": "stream",
     "text": [
      "/usr/local/lib/python3.10/dist-packages/numba/cuda/dispatcher.py:536: NumbaPerformanceWarning: Grid size 1 will likely result in GPU under-utilization due to low occupancy.\n",
      "  warn(NumbaPerformanceWarning(msg))\n",
      "/usr/local/lib/python3.10/dist-packages/scipy/optimize/_slsqp_py.py:437: RuntimeWarning: Values in x were outside bounds during a minimize step, clipping to bounds\n",
      "  fx = wrapped_fun(x)\n",
      "/usr/local/lib/python3.10/dist-packages/scipy/optimize/_slsqp_py.py:441: RuntimeWarning: Values in x were outside bounds during a minimize step, clipping to bounds\n",
      "  g = append(wrapped_grad(x), 0.0)\n",
      "Figure(640x480)\n"
     ]
    }
   ],
   "source": [
    "!python decentralized.py -m nmpc -f 'test.gif'"
   ]
  },
  {
   "cell_type": "markdown",
   "metadata": {},
   "source": [
    "Now, there should a 'test.gif' file in the current directory"
   ]
  }
 ],
 "metadata": {
  "accelerator": "GPU",
  "colab": {
   "gpuType": "T4",
   "provenance": []
  },
  "kernelspec": {
   "display_name": "Python 3",
   "name": "python3"
  },
  "language_info": {
   "name": "python"
  }
 },
 "nbformat": 4,
 "nbformat_minor": 0
}
