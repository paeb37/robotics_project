{
  "nbformat": 4,
  "nbformat_minor": 0,
  "metadata": {
    "colab": {
      "provenance": [],
      "gpuType": "T4"
    },
    "kernelspec": {
      "name": "python3",
      "display_name": "Python 3"
    },
    "language_info": {
      "name": "python"
    },
    "accelerator": "GPU"
  },
  "cells": [
    {
      "cell_type": "markdown",
      "source": [
        "# Multi Agent Traj Opt: Testing\n",
        "Open this script in Colab and connect to a T4 runtime"
      ],
      "metadata": {
        "id": "tcwz5T-nEUO-"
      }
    },
    {
      "cell_type": "code",
      "execution_count": 1,
      "metadata": {
        "colab": {
          "base_uri": "https://localhost:8080/"
        },
        "id": "iTWrltaY11ib",
        "outputId": "da49d89e-b877-4a61-dfc4-d958abbbf14e"
      },
      "outputs": [
        {
          "output_type": "stream",
          "name": "stdout",
          "text": [
            "Cloning into 'robotics_project'...\n",
            "remote: Enumerating objects: 3488, done.\u001b[K\n",
            "remote: Counting objects: 100% (272/272), done.\u001b[K\n",
            "remote: Compressing objects: 100% (94/94), done.\u001b[K\n",
            "remote: Total 3488 (delta 206), reused 210 (delta 178), pack-reused 3216 (from 1)\u001b[K\n",
            "Receiving objects: 100% (3488/3488), 9.00 MiB | 34.53 MiB/s, done.\n",
            "Resolving deltas: 100% (3200/3200), done.\n"
          ]
        }
      ],
      "source": [
        "!git clone -b taimur/integrate-decentralized-parallel-cost --single-branch https://github.com/paeb37/robotics_project.git"
      ]
    },
    {
      "cell_type": "code",
      "source": [
        "%cd /content/robotics_project/decentralized"
      ],
      "metadata": {
        "colab": {
          "base_uri": "https://localhost:8080/"
        },
        "id": "Rt_0zRSb3VpF",
        "outputId": "80d83e9d-598d-42fa-c96e-a4eb7d1514c8"
      },
      "execution_count": 2,
      "outputs": [
        {
          "output_type": "stream",
          "name": "stdout",
          "text": [
            "/content/robotics_project/decentralized\n"
          ]
        }
      ]
    },
    {
      "cell_type": "code",
      "source": [
        "!ls"
      ],
      "metadata": {
        "colab": {
          "base_uri": "https://localhost:8080/"
        },
        "id": "6u-msh9j3mZy",
        "outputId": "1a418423-e682-4bdf-ced9-a9a5914a805b"
      },
      "execution_count": 3,
      "outputs": [
        {
          "output_type": "stream",
          "name": "stdout",
          "text": [
            "decentralized.py  __init__.py  nmpc  RoboticsTest.ipynb  utils\tvelocity_obstacle\n"
          ]
        }
      ]
    },
    {
      "cell_type": "code",
      "source": [
        "!git pull"
      ],
      "metadata": {
        "colab": {
          "base_uri": "https://localhost:8080/"
        },
        "id": "CqGTTxct3oVt",
        "outputId": "1eda17a9-3b6e-4ae9-e0cd-d0f856377e57"
      },
      "execution_count": 4,
      "outputs": [
        {
          "output_type": "stream",
          "name": "stdout",
          "text": [
            "Already up to date.\n"
          ]
        }
      ]
    },
    {
      "cell_type": "code",
      "source": [
        "%%time\n",
        "!python decentralized.py -m nmpc -f 'test.gif'"
      ],
      "metadata": {
        "colab": {
          "base_uri": "https://localhost:8080/"
        },
        "id": "ivv79JOC3sIB",
        "outputId": "4d6ec771-b6a2-44fe-fd62-5f28ddf81940"
      },
      "execution_count": 7,
      "outputs": [
        {
          "output_type": "stream",
          "name": "stdout",
          "text": [
            "/usr/local/lib/python3.10/dist-packages/numba/cuda/dispatcher.py:536: NumbaPerformanceWarning: Grid size 1 will likely result in GPU under-utilization due to low occupancy.\n",
            "  warn(NumbaPerformanceWarning(msg))\n",
            "/usr/local/lib/python3.10/dist-packages/numba/cuda/dispatcher.py:536: NumbaPerformanceWarning: Grid size 2 will likely result in GPU under-utilization due to low occupancy.\n",
            "  warn(NumbaPerformanceWarning(msg))\n",
            "/usr/local/lib/python3.10/dist-packages/scipy/optimize/_slsqp_py.py:437: RuntimeWarning: Values in x were outside bounds during a minimize step, clipping to bounds\n",
            "  fx = wrapped_fun(x)\n",
            "/usr/local/lib/python3.10/dist-packages/scipy/optimize/_slsqp_py.py:441: RuntimeWarning: Values in x were outside bounds during a minimize step, clipping to bounds\n",
            "  g = append(wrapped_grad(x), 0.0)\n",
            "Figure(640x480)\n",
            "CPU times: user 376 ms, sys: 47.1 ms, total: 423 ms\n",
            "Wall time: 1min 8s\n"
          ]
        }
      ]
    }
  ]
}